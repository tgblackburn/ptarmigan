{
 "cells": [
  {
   "cell_type": "markdown",
   "metadata": {},
   "source": [
    "# Importing HDF5-formatted particle data\n",
    "\n",
    "Read/write access to HDF5 files is handled by the Python package `h5py`:"
   ]
  },
  {
   "cell_type": "code",
   "execution_count": 1,
   "metadata": {},
   "outputs": [],
   "source": [
    "import h5py\n",
    "import matplotlib.pyplot as plt\n",
    "import numpy as np"
   ]
  },
  {
   "cell_type": "markdown",
   "metadata": {},
   "source": [
    "First, we create a file object in read-only mode (using `'r'` as the second argument). The output in this case comes from running a simulation using `examples/hdf5/stage1.yml` as the input configuration."
   ]
  },
  {
   "cell_type": "code",
   "execution_count": 2,
   "metadata": {},
   "outputs": [],
   "source": [
    "file = h5py.File('stage1_particles.h5', 'r')"
   ]
  },
  {
   "cell_type": "markdown",
   "metadata": {},
   "source": [
    "Files (and groups) behave like Python dictionaries, in that they are navigated using named keys. At top level, `ptarmigan`'s HDF5 output contains three groups:"
   ]
  },
  {
   "cell_type": "code",
   "execution_count": 3,
   "metadata": {},
   "outputs": [
    {
     "data": {
      "text/plain": [
       "['build', 'config', 'final-state']"
      ]
     },
     "execution_count": 3,
     "metadata": {},
     "output_type": "execute_result"
    }
   ],
   "source": [
    "list(file.keys())"
   ]
  },
  {
   "cell_type": "markdown",
   "metadata": {},
   "source": [
    "`build` contains data necessary to reconstruct the executable used to produce the current set of output. `config` contains the data necessary to reconstruct the specific run, i.e. the input parameters for the collision. Stepping down one level, we see that `config` contains several groups and datasets."
   ]
  },
  {
   "cell_type": "code",
   "execution_count": 4,
   "metadata": {},
   "outputs": [
    {
     "name": "stdout",
     "output_type": "stream",
     "text": [
      "['beam', 'control', 'input-file', 'laser', 'mpi-tasks', 'output', 'unit']\n",
      "<HDF5 group \"/config/laser\" (9 members)>\n",
      "<HDF5 dataset \"mpi-tasks\": shape (), type \"<i4\">\n"
     ]
    }
   ],
   "source": [
    "print(list(file['config'].keys()))\n",
    "print(file['config/laser'])\n",
    "print(file['config/mpi-tasks'])"
   ]
  },
  {
   "cell_type": "markdown",
   "metadata": {},
   "source": [
    "`beam`, `control`, `laser` and `output` are groups containing the parsed values for the input configuration, whereas `input-file` and `mpi-tasks` are datasets. To import a dataset's contents, we use numpy-style indexing. For scalar data, an empty tuple suffices."
   ]
  },
  {
   "cell_type": "code",
   "execution_count": 5,
   "metadata": {},
   "outputs": [
    {
     "name": "stdout",
     "output_type": "stream",
     "text": [
      "---\n",
      "# Examples of how to use HDF5 input and output\n",
      "# Part 1:\n",
      "# Simulate the production of a beam of high-energy gamma rays,\n",
      "# using the collision of a 10-GeV electron beam and a moderately\n",
      "# intense, frequency-tripled laser pulse.\n",
      "\n",
      "control:\n",
      "  lcfa: false\n",
      "  radiation_reaction: true\n",
      "  pair_creation: false\n",
      "\n",
      "laser:\n",
      "  a0: 1.0\n",
      "  wavelength: 0.8 * micro / 3.0\n",
      "  fwhm_duration: 30.0 * femto\n",
      "  waist: 10.0 * micro\n",
      "  polarization: linear\n",
      "\n",
      "beam:\n",
      "  n: 1000000\n",
      "  species: electron\n",
      "  charge: 100.0 * pico\n",
      "  gamma: gamma\n",
      "  sigma: 0.01 * gamma\n",
      "  radius: 5.0 * micro\n",
      "  length: 10.0 * micro\n",
      "  collision_angle: 15.0 * degree\n",
      "  rms_divergence: 20 * micro\n",
      "\n",
      "output:\n",
      "  ident: auto\n",
      "  coordinate_system: beam\n",
      "  discard_background: true\n",
      "  dump_all_particles: hdf5\n",
      "  file_format: fits\n",
      "  photon:\n",
      "    - energy\n",
      "    - energy:(auto; auto; angle in 0, 100 * micro)\n",
      "    - angle_x:angle_y:(auto; auto; angle in 0, 20 * micro)\n",
      "\n",
      "constants:\n",
      "  gamma: 10.0 * GeV / (me * c^2)\n",
      "\n"
     ]
    }
   ],
   "source": [
    "print(file['config/input-file'].asstr()[()])"
   ]
  },
  {
   "cell_type": "markdown",
   "metadata": {},
   "source": [
    "As such, we see that the HDF5 file stores a copy of the input configuration, to enable the data to be regenerated more easily. `'config/laser'` contains numerical values associated with the `laser` block in the input file:"
   ]
  },
  {
   "cell_type": "code",
   "execution_count": 6,
   "metadata": {},
   "outputs": [
    {
     "name": "stdout",
     "output_type": "stream",
     "text": [
      "a0              => 1.0\n",
      "chirp_b         => 0.0\n",
      "envelope        => 2\n",
      "focusing        => 1\n",
      "fwhm_duration   => 3.0000000000000005e-14\n",
      "polarization    => 0\n",
      "polarization_angle => 0.0\n",
      "waist           => 9.999999999999999e-06\n",
      "wavelength      => 2.6666666666666667e-07\n"
     ]
    }
   ],
   "source": [
    "for key in list(file['config/laser'].keys()):\n",
    "    val = file['config/laser'][key][()]\n",
    "    print('{:<15} => {}'.format(key, val))"
   ]
  },
  {
   "cell_type": "markdown",
   "metadata": {},
   "source": [
    "While the meaning of most of these is clear, the polarization of `0` is less so. In order to get more information about a particular dataset, we can query the metadata and attributes associated with it."
   ]
  },
  {
   "cell_type": "code",
   "execution_count": 7,
   "metadata": {},
   "outputs": [
    {
     "name": "stdout",
     "output_type": "stream",
     "text": [
      "<HDF5 dataset \"polarization\": shape (), type \"|u1\">\n",
      "0\n",
      "{'enum': {'linear': 0, 'circular': 1}}\n"
     ]
    }
   ],
   "source": [
    "pol = file['config/laser/polarization']\n",
    "print(pol)\n",
    "print(pol[()])\n",
    "print(pol.dtype.metadata)"
   ]
  },
  {
   "cell_type": "markdown",
   "metadata": {},
   "source": [
    "We see that `polarization` is a C-style enum, with two variants corresponding to linear and circular polarization.\n",
    "\n",
    "Datasets are self-describing. All will carry a description and a unit."
   ]
  },
  {
   "cell_type": "code",
   "execution_count": 8,
   "metadata": {},
   "outputs": [
    {
     "name": "stdout",
     "output_type": "stream",
     "text": [
      "3.0000000000000005e-14\n",
      "s\n",
      "full width at half maximum of the temporal intensity profile\n"
     ]
    }
   ],
   "source": [
    "fwhm = file['config/laser/fwhm_duration']\n",
    "print(fwhm[()])\n",
    "print(fwhm.attrs['unit'].decode('utf-8'))\n",
    "print(fwhm.attrs['desc'].decode('utf-8'))"
   ]
  },
  {
   "cell_type": "markdown",
   "metadata": {},
   "source": [
    "The final top-level group, final-state, contains data about the particles at the end of the simulation."
   ]
  },
  {
   "cell_type": "code",
   "execution_count": 9,
   "metadata": {},
   "outputs": [
    {
     "data": {
      "text/plain": [
       "['a0_at_creation',\n",
       " 'id',\n",
       " 'momentum',\n",
       " 'n_pos',\n",
       " 'parent_chi',\n",
       " 'parent_id',\n",
       " 'polarisation',\n",
       " 'polarization',\n",
       " 'position',\n",
       " 'weight',\n",
       " 'xi']"
      ]
     },
     "execution_count": 9,
     "metadata": {},
     "output_type": "execute_result"
    }
   ],
   "source": [
    "list(file['final-state/photon'])"
   ]
  },
  {
   "cell_type": "markdown",
   "metadata": {},
   "source": [
    "(`a0-at-creation` and `xi` are, in fact, the same dataset. The latter is provided as an alias, but both point to the same underlying array.) Importing `'final-state/photon/momentum`' and taking its value yields a numpy array."
   ]
  },
  {
   "cell_type": "code",
   "execution_count": 10,
   "metadata": {},
   "outputs": [
    {
     "name": "stdout",
     "output_type": "stream",
     "text": [
      "four-momentum of the photon\n",
      "MeV/c\n"
     ]
    }
   ],
   "source": [
    "p = file['final-state/photon/momentum']\n",
    "print(p.attrs['desc'].decode('utf-8'))\n",
    "print(p.attrs['unit'].decode('utf-8'))\n",
    "p = p[()]"
   ]
  },
  {
   "cell_type": "markdown",
   "metadata": {},
   "source": [
    "For example, extracting the 0th component of every four-momentum gives us an array of the photon energies."
   ]
  },
  {
   "cell_type": "code",
   "execution_count": 11,
   "metadata": {},
   "outputs": [
    {
     "data": {
      "text/plain": [
       "array([4454.90790882,  267.35096471,  139.31224944, ...,  269.5914191 ,\n",
       "        161.8579659 , 2438.84074619])"
      ]
     },
     "execution_count": 11,
     "metadata": {},
     "output_type": "execute_result"
    }
   ],
   "source": [
    "energies = p[:,0]\n",
    "energies"
   ]
  },
  {
   "cell_type": "code",
   "execution_count": 12,
   "metadata": {},
   "outputs": [
    {
     "data": {
      "image/png": "[encoded data removed]",
      "text/plain": [
       "<Figure size 640x480 with 1 Axes>"
      ]
     },
     "metadata": {},
     "output_type": "display_data"
    }
   ],
   "source": [
    "plt.hist(energies, density=True, bins=100)\n",
    "plt.ylabel('density')\n",
    "plt.xlabel('energy (MeV)')\n",
    "plt.show()"
   ]
  }
 ],
 "metadata": {
  "kernelspec": {
   "display_name": "Python 3",
   "language": "python",
   "name": "python3"
  },
  "language_info": {
   "codemirror_mode": {
    "name": "ipython",
    "version": 3
   },
   "file_extension": ".py",
   "mimetype": "text/x-python",
   "name": "python",
   "nbconvert_exporter": "python",
   "pygments_lexer": "ipython3",
   "version": "3.12.3"
  }
 },
 "nbformat": 4,
 "nbformat_minor": 4
}
